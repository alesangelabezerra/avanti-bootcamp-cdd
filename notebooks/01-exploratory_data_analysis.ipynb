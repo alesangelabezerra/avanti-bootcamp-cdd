{
 "cells": [
  {
   "cell_type": "markdown",
   "metadata": {
    "tags": []
   },
   "source": [
    "# Análise exploratória de dados"
   ]
  },
  {
   "cell_type": "code",
   "execution_count": 6,
   "metadata": {
    "tags": []
   },
   "outputs": [],
   "source": [
    "import pandas as pd\n",
    "import seaborn as sns"
   ]
  },
  {
   "cell_type": "markdown",
   "metadata": {
    "tags": []
   },
   "source": [
    "## 1. Coleta de dados"
   ]
  },
  {
   "cell_type": "code",
   "execution_count": 7,
   "metadata": {
    "tags": []
   },
   "outputs": [],
   "source": [
    "df = sns.load_dataset('titanic')\n",
    "df.to_csv('../data/raw/data.csv', index=False)"
   ]
  },
  {
   "cell_type": "markdown",
   "metadata": {},
   "source": [
    "## 2. Dicionário dos dados"
   ]
  },
  {
   "cell_type": "code",
   "execution_count": 8,
   "metadata": {
    "tags": []
   },
   "outputs": [
    {
     "data": {
      "text/plain": [
       "Index(['survived', 'pclass', 'sex', 'age', 'sibsp', 'parch', 'fare',\n",
       "       'embarked', 'class', 'who', 'adult_male', 'deck', 'embark_town',\n",
       "       'alive', 'alone'],\n",
       "      dtype='object')"
      ]
     },
     "execution_count": 8,
     "metadata": {},
     "output_type": "execute_result"
    }
   ],
   "source": [
    "df.columns"
   ]
  },
  {
   "cell_type": "code",
   "execution_count": 9,
   "metadata": {
    "tags": []
   },
   "outputs": [
    {
     "data": {
      "text/html": [
       "<div>\n",
       "<style scoped>\n",
       "    .dataframe tbody tr th:only-of-type {\n",
       "        vertical-align: middle;\n",
       "    }\n",
       "\n",
       "    .dataframe tbody tr th {\n",
       "        vertical-align: top;\n",
       "    }\n",
       "\n",
       "    .dataframe thead th {\n",
       "        text-align: right;\n",
       "    }\n",
       "</style>\n",
       "<table border=\"1\" class=\"dataframe\">\n",
       "  <thead>\n",
       "    <tr style=\"text-align: right;\">\n",
       "      <th></th>\n",
       "      <th>variavel</th>\n",
       "      <th>descricao</th>\n",
       "      <th>tipo</th>\n",
       "      <th>subtipo</th>\n",
       "    </tr>\n",
       "  </thead>\n",
       "  <tbody>\n",
       "    <tr>\n",
       "      <th>0</th>\n",
       "      <td>survived</td>\n",
       "      <td>Indica se o passageiro sobreviveu ou não (0 = ...</td>\n",
       "      <td>qualitativa</td>\n",
       "      <td>nominal</td>\n",
       "    </tr>\n",
       "    <tr>\n",
       "      <th>1</th>\n",
       "      <td>pclass</td>\n",
       "      <td>Classe do bilhete (1 = 1ª classe, 2 = 2ª class...</td>\n",
       "      <td>qualitativa</td>\n",
       "      <td>ordinal</td>\n",
       "    </tr>\n",
       "    <tr>\n",
       "      <th>2</th>\n",
       "      <td>sex</td>\n",
       "      <td>Sexo do passageiro</td>\n",
       "      <td>qualitativa</td>\n",
       "      <td>nominal</td>\n",
       "    </tr>\n",
       "    <tr>\n",
       "      <th>3</th>\n",
       "      <td>age</td>\n",
       "      <td>Idade do passageiro</td>\n",
       "      <td>quantitativa</td>\n",
       "      <td>continua</td>\n",
       "    </tr>\n",
       "    <tr>\n",
       "      <th>4</th>\n",
       "      <td>sibsp</td>\n",
       "      <td>Número de irmãos/cônjuges a bordo</td>\n",
       "      <td>quantitativa</td>\n",
       "      <td>discreta</td>\n",
       "    </tr>\n",
       "    <tr>\n",
       "      <th>5</th>\n",
       "      <td>parch</td>\n",
       "      <td>Número de pais/filhos a bordo</td>\n",
       "      <td>quantitativa</td>\n",
       "      <td>discreta</td>\n",
       "    </tr>\n",
       "    <tr>\n",
       "      <th>6</th>\n",
       "      <td>fare</td>\n",
       "      <td>Tarifa do passageiro</td>\n",
       "      <td>quantitativa</td>\n",
       "      <td>continua</td>\n",
       "    </tr>\n",
       "    <tr>\n",
       "      <th>7</th>\n",
       "      <td>embarked</td>\n",
       "      <td>Porto de embarque (C = Cherbourg, Q = Queensto...</td>\n",
       "      <td>qualitativa</td>\n",
       "      <td>nominal</td>\n",
       "    </tr>\n",
       "    <tr>\n",
       "      <th>8</th>\n",
       "      <td>class</td>\n",
       "      <td>Classe do bilhete (1ª, 2ª, 3ª)</td>\n",
       "      <td>qualitativa</td>\n",
       "      <td>ordinal</td>\n",
       "    </tr>\n",
       "    <tr>\n",
       "      <th>9</th>\n",
       "      <td>who</td>\n",
       "      <td>Grupo demográfico (homem, mulher, criança)</td>\n",
       "      <td>qualitativa</td>\n",
       "      <td>nominal</td>\n",
       "    </tr>\n",
       "    <tr>\n",
       "      <th>10</th>\n",
       "      <td>adult_male</td>\n",
       "      <td>Indica se o passageiro é adulto e do sexo masc...</td>\n",
       "      <td>qualitativa</td>\n",
       "      <td>nominal</td>\n",
       "    </tr>\n",
       "    <tr>\n",
       "      <th>11</th>\n",
       "      <td>deck</td>\n",
       "      <td>Deck onde o passageiro estava acomodado</td>\n",
       "      <td>qualitativa</td>\n",
       "      <td>nominal</td>\n",
       "    </tr>\n",
       "    <tr>\n",
       "      <th>12</th>\n",
       "      <td>embark_town</td>\n",
       "      <td>Cidade de embarque</td>\n",
       "      <td>qualitativa</td>\n",
       "      <td>nominal</td>\n",
       "    </tr>\n",
       "    <tr>\n",
       "      <th>13</th>\n",
       "      <td>alive</td>\n",
       "      <td>Indica se o passageiro sobreviveu ou não (sim,...</td>\n",
       "      <td>qualitativa</td>\n",
       "      <td>nominal</td>\n",
       "    </tr>\n",
       "    <tr>\n",
       "      <th>14</th>\n",
       "      <td>alone</td>\n",
       "      <td>Indica se o passageiro estava viajando sozinho...</td>\n",
       "      <td>qualitativa</td>\n",
       "      <td>nominal</td>\n",
       "    </tr>\n",
       "  </tbody>\n",
       "</table>\n",
       "</div>"
      ],
      "text/plain": [
       "       variavel                                          descricao  \\\n",
       "0      survived  Indica se o passageiro sobreviveu ou não (0 = ...   \n",
       "1        pclass  Classe do bilhete (1 = 1ª classe, 2 = 2ª class...   \n",
       "2           sex                                 Sexo do passageiro   \n",
       "3           age                                Idade do passageiro   \n",
       "4         sibsp                  Número de irmãos/cônjuges a bordo   \n",
       "5         parch                      Número de pais/filhos a bordo   \n",
       "6          fare                               Tarifa do passageiro   \n",
       "7      embarked  Porto de embarque (C = Cherbourg, Q = Queensto...   \n",
       "8         class                     Classe do bilhete (1ª, 2ª, 3ª)   \n",
       "9           who         Grupo demográfico (homem, mulher, criança)   \n",
       "10   adult_male  Indica se o passageiro é adulto e do sexo masc...   \n",
       "11         deck            Deck onde o passageiro estava acomodado   \n",
       "12  embark_town                                 Cidade de embarque   \n",
       "13        alive  Indica se o passageiro sobreviveu ou não (sim,...   \n",
       "14        alone  Indica se o passageiro estava viajando sozinho...   \n",
       "\n",
       "            tipo   subtipo  \n",
       "0    qualitativa   nominal  \n",
       "1    qualitativa   ordinal  \n",
       "2    qualitativa   nominal  \n",
       "3   quantitativa  continua  \n",
       "4   quantitativa  discreta  \n",
       "5   quantitativa  discreta  \n",
       "6   quantitativa  continua  \n",
       "7    qualitativa   nominal  \n",
       "8    qualitativa   ordinal  \n",
       "9    qualitativa   nominal  \n",
       "10   qualitativa   nominal  \n",
       "11   qualitativa   nominal  \n",
       "12   qualitativa   nominal  \n",
       "13   qualitativa   nominal  \n",
       "14   qualitativa   nominal  "
      ]
     },
     "execution_count": 9,
     "metadata": {},
     "output_type": "execute_result"
    }
   ],
   "source": [
    "dicionario = pd.DataFrame([\n",
    "    {\n",
    "        'variavel': 'survived',\n",
    "        'descricao': 'Indica se o passageiro sobreviveu ou não (0 = Não, 1 = Sim)',\n",
    "        'tipo': 'qualitativa',\n",
    "        'subtipo': 'nominal'\n",
    "    },{\n",
    "        'variavel': 'pclass',\n",
    "        'descricao': 'Classe do bilhete (1 = 1ª classe, 2 = 2ª classe, 3 = 3ª classe)',\n",
    "        'tipo': 'qualitativa',\n",
    "        'subtipo': 'ordinal'\n",
    "    },{\n",
    "        'variavel': 'sex',\n",
    "        'descricao': 'Sexo do passageiro',\n",
    "        'tipo': 'qualitativa',\n",
    "        'subtipo': 'nominal'\n",
    "    },{\n",
    "        'variavel': 'age',\n",
    "        'descricao': 'Idade do passageiro',\n",
    "        'tipo': 'quantitativa',\n",
    "        'subtipo': 'continua'\n",
    "    },{\n",
    "        'variavel': 'sibsp',\n",
    "        'descricao': 'Número de irmãos/cônjuges a bordo',\n",
    "        'tipo': 'quantitativa',\n",
    "        'subtipo': 'discreta'\n",
    "    },{\n",
    "        'variavel': 'parch',\n",
    "        'descricao': 'Número de pais/filhos a bordo',\n",
    "        'tipo': 'quantitativa',\n",
    "        'subtipo': 'discreta'\n",
    "    },{\n",
    "        'variavel': 'fare',\n",
    "        'descricao': 'Tarifa do passageiro',\n",
    "        'tipo': 'quantitativa',\n",
    "        'subtipo': 'continua'\n",
    "    },{\n",
    "        'variavel': 'embarked',\n",
    "        'descricao': 'Porto de embarque (C = Cherbourg, Q = Queenstown, S = Southampton)',\n",
    "        'tipo': 'qualitativa',\n",
    "        'subtipo': 'nominal'\n",
    "    },{\n",
    "        'variavel': 'class',\n",
    "        'descricao': 'Classe do bilhete (1ª, 2ª, 3ª)',\n",
    "        'tipo': 'qualitativa',\n",
    "        'subtipo': 'ordinal'\n",
    "    },{\n",
    "        'variavel': 'who',\n",
    "        'descricao': 'Grupo demográfico (homem, mulher, criança)',\n",
    "        'tipo': 'qualitativa',\n",
    "        'subtipo': 'nominal'\n",
    "    },{\n",
    "        'variavel': 'adult_male',\n",
    "        'descricao': 'Indica se o passageiro é adulto e do sexo masculino',\n",
    "        'tipo': 'qualitativa',\n",
    "        'subtipo': 'nominal'\n",
    "    }, {\n",
    "        'variavel': 'deck',\n",
    "        'descricao': 'Deck onde o passageiro estava acomodado',\n",
    "        'tipo': 'qualitativa',\n",
    "        'subtipo': 'nominal'\n",
    "    },{\n",
    "        'variavel': 'embark_town',\n",
    "        'descricao': 'Cidade de embarque',\n",
    "        'tipo': 'qualitativa',\n",
    "        'subtipo': 'nominal'\n",
    "    },{\n",
    "        'variavel': 'alive',\n",
    "        'descricao': 'Indica se o passageiro sobreviveu ou não (sim, não)',\n",
    "        'tipo': 'qualitativa',\n",
    "        'subtipo': 'nominal'\n",
    "    },{\n",
    "        'variavel': 'alone',\n",
    "        'descricao': 'Indica se o passageiro estava viajando sozinho (sim, não)',\n",
    "        'tipo': 'qualitativa',\n",
    "        'subtipo': 'nominal'\n",
    "    }\n",
    "])\n",
    "dicionario"
   ]
  },
  {
   "cell_type": "code",
   "execution_count": 10,
   "metadata": {
    "tags": []
   },
   "outputs": [],
   "source": [
    "dicionario.to_csv('../data/external/dictionary.csv', index=False)"
   ]
  }
 ],
 "metadata": {
  "kernelspec": {
   "display_name": "Python 3 (ipykernel)",
   "language": "python",
   "name": "python3"
  },
  "language_info": {
   "codemirror_mode": {
    "name": "ipython",
    "version": 3
   },
   "file_extension": ".py",
   "mimetype": "text/x-python",
   "name": "python",
   "nbconvert_exporter": "python",
   "pygments_lexer": "ipython3",
   "version": "3.10.12"
  },
  "vscode": {
   "interpreter": {
    "hash": "eb3c3305d8b111f0102f4f519c5f17abd113fe74db6752c355e994a9008815ef"
   }
  }
 },
 "nbformat": 4,
 "nbformat_minor": 4
}
